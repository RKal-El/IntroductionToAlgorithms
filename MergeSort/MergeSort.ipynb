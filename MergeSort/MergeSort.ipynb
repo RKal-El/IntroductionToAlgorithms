{
 "cells": [
  {
   "cell_type": "markdown",
   "metadata": {},
   "source": [
    "# __Merge Sort__\n",
    "\n",
    "\n",
    "## How it works:\n",
    "\n",
    "Coming soon...\n",
    "\n",
    "\n",
    "## Pseudocode:\n",
    "\n",
    "    MERGE(A, p, q, r)\n",
    "        n1 = q - p + 1\n",
    "        n2 = r - q\n",
    "        L[1 ... n1]\n",
    "        R[1 ... n2]\n",
    "        for i = 1 to n1\n",
    "            L[i] = A[p + i - 1]\n",
    "        for j = 1 to n2\n",
    "            R[j] = A[q + j]\n",
    "        i = 1\n",
    "        j = 1\n",
    "        for k = p to r\n",
    "            if L[i] <= R[j]\n",
    "                A[k] = L[i]\n",
    "                i++\n",
    "            else\n",
    "                A[k] = R[j]\n",
    "                j++\n",
    "    \n",
    "    MERGE-SORT(A, p, r)\n",
    "        if p < r\n",
    "            q = (p + r)  / 2\n",
    "            MERGE-SORT(A, p, q)\n",
    "            MERGE-SORT(A, q + 1, r)\n",
    "            MERGE(A, p, q, r)\n",
    "\n",
    "\n",
    "## Worst-case running time:\n",
    "\n",
    "$$\n",
    "T(n) = \\theta(n{\\log_2 n})\n",
    "$$\n",
    "\n",
    "\n",
    "## Use cases\n",
    "\n",
    "Coming soon...\n",
    "\n"
   ]
  },
  {
   "cell_type": "code",
   "execution_count": 1,
   "metadata": {},
   "outputs": [],
   "source": [
    "def merge(array, firstElement, middleElement, lastElement):\n",
    "    firstHalf = middleElement - firstElement + 1\n",
    "    secondHalf = lastElement - middleElement\n",
    "    leftArray = []\n",
    "    rightArray = []\n",
    "    \n",
    "    for subscript in range(0, firstHalf):\n",
    "        leftArray.append(array[firstElement + subscript])\n",
    "    \n",
    "    for subscript in range(0, secondHalf):\n",
    "        rightArray.append(array[middleElement + subscript + 1])\n",
    "        \n",
    "    leftElement = 0\n",
    "    rightElement = 0\n",
    "    arrayElement = firstElement\n",
    "    \n",
    "    while(leftElement < firstHalf and rightElement < secondHalf):\n",
    "        if (leftArray[leftElement] <= rightArray[rightElement]):\n",
    "            array[arrayElement] = leftArray[leftElement]\n",
    "            leftElement += 1\n",
    "            arrayElement += 1\n",
    "        else:\n",
    "            array[arrayElement] = rightArray[rightElement]\n",
    "            rightElement += 1\n",
    "            arrayElement += 1\n",
    "    \n",
    "    while(leftElement < firstHalf):\n",
    "        array[arrayElement] = leftArray[leftElement]\n",
    "        leftElement += 1\n",
    "        arrayElement += 1\n",
    "        \n",
    "    while(rightElement < secondHalf):\n",
    "        array[arrayElement] = rightArray[rightElement]\n",
    "        rightElement += 1\n",
    "        arrayElement += 1"
   ]
  },
  {
   "cell_type": "code",
   "execution_count": 2,
   "metadata": {},
   "outputs": [],
   "source": [
    "def mergeSort(array, firstElement, lastElement):\n",
    "    if(firstElement < lastElement):\n",
    "        middleElement = (firstElement + lastElement) // 2\n",
    "        mergeSort(array, firstElement, middleElement)\n",
    "        mergeSort(array, middleElement + 1, lastElement)\n",
    "        merge(array, firstElement, middleElement, lastElement)"
   ]
  },
  {
   "cell_type": "code",
   "execution_count": 3,
   "metadata": {},
   "outputs": [
    {
     "name": "stdout",
     "output_type": "stream",
     "text": [
      "Unsorted list:\n",
      "[5, 6, 4, 2, 7, 1, 9, 3, 0, 8]\n",
      "\n",
      "Sorting...\n",
      "\n",
      "Sorted list:\n",
      "[0, 1, 2, 3, 4, 5, 6, 7, 8, 9]\n"
     ]
    }
   ],
   "source": [
    "test = [5, 6, 4, 2, 7, 1, 9, 3, 0, 8]\n",
    "firstElement = 0\n",
    "lastElement = len(test) - 1\n",
    "\n",
    "print('Unsorted list:' + '\\n' + str(test))\n",
    "print('\\nSorting...\\n')\n",
    "\n",
    "mergeSort(test, firstElement, lastElement)\n",
    "\n",
    "print('Sorted list:' + '\\n' + str(test))"
   ]
  }
 ],
 "metadata": {
  "kernelspec": {
   "display_name": "Python 3",
   "language": "python",
   "name": "python3"
  },
  "language_info": {
   "codemirror_mode": {
    "name": "ipython",
    "version": 3
   },
   "file_extension": ".py",
   "mimetype": "text/x-python",
   "name": "python",
   "nbconvert_exporter": "python",
   "pygments_lexer": "ipython3",
   "version": "3.6.4"
  }
 },
 "nbformat": 4,
 "nbformat_minor": 2
}
