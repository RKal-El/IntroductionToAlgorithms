{
 "cells": [
  {
   "cell_type": "markdown",
   "metadata": {},
   "source": [
    "# __Insertion sort__\n",
    "\n",
    "\n",
    "## How it works:\n",
    "\n",
    "It starts from second element (one element out of one element is consider sorted), which value is temporarily saved in separate variable, and it is compared with previous element which is sorted. After a determination which one is bigger they will take places accordingly (depends on sorting order: ascending / descending series). After sorting first two elements now is taken value from third element and saved in separate variable and it is compared with first two elements. For a left elements that are BIGGER (smaller, for descending order) then third value, there values are copied in first right position from where they are in array. We are continuing this proces until we hit the end of array.\n",
    "\n",
    "Generally for the element we want sort we compare value of that element with values in left subarray of him which are sorted. For elements that are bigger (for ascending order) we copy them in first right position and in the same time we save position of that element (also known as subscript) in separate variable. So when we hit the begginig of array we have saved the position (subscript) of the first smaller element then our element we want sort. All is what we need to do is copy value of element we want sort on the first right position of the first smaller element of him which position we know.\n",
    "\n",
    "For better understanding let's see an example.\n",
    "\n",
    "### E.g.\n",
    "\n",
    "Ascending series, array = [4, 6, 2, 9, 5]\n",
    "\n",
    "1) variabla = 6: if(4 > 6) no: do nothing: we hit the beginnig of array: copy variable on it own position [4,6,2,9,5] \n",
    "\n",
    "2) variabla = 2: if(6 > 2) yes: copy 6 on right position [4,6,6,9,5]: if(4 > 2) yes: copy 4 on right position [4,4,6,9,5]: we hit the beginnig of array, copy variable on first position [2,4,6,9,5]\n",
    "\n",
    "3) variable = 9: if(6 > 9) no: do nothing: if(4 > 9) no: do nothing... do this (test if 9 smaller) until we hit the beginnig of array: copy variable on it own position because non of elements from his left is bigger then him [2,4,6,9,5] \n",
    "\n",
    "4) variable = 5: if(9 > 5) yes: copy 9 on right position [2,4,6,9,9]: if(6 > 5) yes:  copy 6 on right position [2,4,6,6,9]: if(4 > 5) no: do nothing... do this (test if 5 smaller) until we hit the beginnig of array: place variable on first right postion of first smaller number (4) [2,4,5,6,9]\n",
    "\n",
    "\n",
    "## Pseudocode:\n",
    "\n",
    "    INSERTION-SORT(A)\n",
    "        for (j = 2 to A.length)\n",
    "            key = A[j]\n",
    "            // Insert A[j] into sorted sequence A[1, ..., j - 1]\n",
    "            i = j - 1\n",
    "            while (i > 0 and A[i] > key)\n",
    "                A[i+1] = A[i]\n",
    "                i--\n",
    "            A[i+1] = key\n",
    "\n",
    "\n",
    "## Worst case running time T(n):\n",
    "\n",
    "$$\n",
    "T(n) = \\theta(n^2)\n",
    "$$\n",
    "\n",
    "\n",
    "## Use cases:\n",
    "\n",
    "Efficient algorithm for sorting small number of elements.\n",
    "\n"
   ]
  },
  {
   "cell_type": "code",
   "execution_count": 1,
   "metadata": {},
   "outputs": [],
   "source": [
    "def insertionSort(array):\n",
    "    \n",
    "    numberOfElements = len(array)\n",
    "    \n",
    "    for testingElement in range(1, numberOfElements):\n",
    "        \n",
    "        currentValue = array[testingElement]\n",
    "        previousSortedElement = testingElement - 1\n",
    "        \n",
    "        while(previousSortedElement >= 0 and array[previousSortedElement] > currentValue):\n",
    "            array[previousSortedElement + 1] = array[previousSortedElement]\n",
    "            previousSortedElement -= 1\n",
    "            \n",
    "        array[previousSortedElement + 1] = currentValue"
   ]
  },
  {
   "cell_type": "code",
   "execution_count": 2,
   "metadata": {},
   "outputs": [
    {
     "name": "stdout",
     "output_type": "stream",
     "text": [
      "Unsorted list:\n",
      "[5, 6, 4, 2, 7, 1, 9, 3, 0, 8]\n",
      "\n",
      "Sorting...\n",
      "\n",
      "Sorted list:\n",
      "[0, 1, 2, 3, 4, 5, 6, 7, 8, 9]\n"
     ]
    }
   ],
   "source": [
    "test = [5, 6, 4, 2, 7, 1, 9, 3, 0, 8]\n",
    "\n",
    "print('Unsorted list:' + '\\n' + str(test))\n",
    "print('\\nSorting...\\n')\n",
    "\n",
    "insertionSort(test)\n",
    "\n",
    "print('Sorted list:' + '\\n' + str(test))"
   ]
  }
 ],
 "metadata": {
  "kernelspec": {
   "display_name": "Python 3",
   "language": "python",
   "name": "python3"
  },
  "language_info": {
   "codemirror_mode": {
    "name": "ipython",
    "version": 3
   },
   "file_extension": ".py",
   "mimetype": "text/x-python",
   "name": "python",
   "nbconvert_exporter": "python",
   "pygments_lexer": "ipython3",
   "version": "3.6.4"
  }
 },
 "nbformat": 4,
 "nbformat_minor": 2
}
