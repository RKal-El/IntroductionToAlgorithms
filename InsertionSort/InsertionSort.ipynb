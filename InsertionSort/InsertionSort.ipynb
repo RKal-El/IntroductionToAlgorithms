{
 "cells": [
  {
   "cell_type": "markdown",
   "metadata": {},
   "source": [
    "# __Insertion sort__\n",
    "## Pseudocode:\n",
    "\n",
    "    for j = 2 to A.length\n",
    "        key = A[j]\n",
    "        // Insert A[j] into sorted sequence A[1, ..., j-1]\n",
    "        i = j - 1\n",
    "        while (i > 0 and A[i] > key)\n",
    "            A[i+1] = A[i]\n",
    "            i--\n",
    "        A[i+1] = key\n"
   ]
  },
  {
   "cell_type": "code",
   "execution_count": 35,
   "metadata": {},
   "outputs": [],
   "source": [
    "def insertionSort(array):\n",
    "    \n",
    "    number_of_elements = len(array)\n",
    "    \n",
    "    for testing_element in range(1, number_of_elements):\n",
    "        \n",
    "        current_value = array[testing_element]\n",
    "        previous_sorted_element = testing_element - 1\n",
    "        \n",
    "        while(previous_sorted_element >= 0 and array[previous_sorted_element] > current_value):\n",
    "            array[previous_sorted_element + 1] = array[previous_sorted_element]\n",
    "            previous_sorted_element -= 1\n",
    "            \n",
    "        array[previous_sorted_element + 1] = current_value"
   ]
  },
  {
   "cell_type": "code",
   "execution_count": 36,
   "metadata": {},
   "outputs": [
    {
     "name": "stdout",
     "output_type": "stream",
     "text": [
      "[4, 6, 2, 7, 9, 1, 5]\n",
      "[1, 2, 4, 5, 6, 7, 9]\n"
     ]
    }
   ],
   "source": [
    "test = [4,6,2,7,9,1,5]\n",
    "\n",
    "print(test)\n",
    "insertionSort(test)\n",
    "print(test)"
   ]
  }
 ],
 "metadata": {
  "kernelspec": {
   "display_name": "Python 3",
   "language": "python",
   "name": "python3"
  },
  "language_info": {
   "codemirror_mode": {
    "name": "ipython",
    "version": 3
   },
   "file_extension": ".py",
   "mimetype": "text/x-python",
   "name": "python",
   "nbconvert_exporter": "python",
   "pygments_lexer": "ipython3",
   "version": "3.6.4"
  }
 },
 "nbformat": 4,
 "nbformat_minor": 2
}
