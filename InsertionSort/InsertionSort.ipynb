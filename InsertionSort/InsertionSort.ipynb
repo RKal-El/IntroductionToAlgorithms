{
 "cells": [
  {
   "cell_type": "markdown",
   "metadata": {},
   "source": [
    "# __Insertion sort__\n",
    "## How it works:\n",
    "\n",
    "It starts from second element (one element out of one element is consider sorted), which value is temporarily saved in separate variable, and it is compared with previous element which is sorted. After a determination which one is bigger they will take places accordingly (depends on sorting orders: ascending / descending series). After sorting first two elements now is taken value from third element and saved in separate variable and it is compared with first two elements. If left elements are BIGGER (smaller, for descending order) then third value there values are copied in first right position from where they are in array.\n",
    "When we find first smaller value then our current value we place value in the first right position of first smaller value, or if we end up on beginning of array we place value on first position. We repeat this proces until we reach the end of the array.\n",
    "\n",
    "E.g.\n",
    "Ascending series, array: [4, 6, 2, 9, 5]\n",
    "\n",
    "1) variabla = 6: if(4 > 6) no: do nothing: we hit the beginnig of array: copy variable on it own position [4,6,2,9,5] \n",
    "\n",
    "2) variabla = 2: if(6 > 2) yes: copy 6 on right position [4,6,6,9,5]: if(4 > 2) yes: copy 4 on right position [4,4,6,9,5]: we hit the left point of beginnig of array, copy variable on first position [2,4,6,9,5]\n",
    "\n",
    "3) variable = 9: if(6 > 9) no: do nothing: if(4 > 9) no: do nothing... do this until we hit the the left point of beginnig of array: copy variable on it own position [2,4,6,9,5] \n",
    "\n",
    "4) variable = 5: if(9 > 5) yes: copy 9 [2,4,6,9,9]: if(6 > 5) yes:  copy 6 [2,4,6,6,9]: if(4 > 5) no: do nothing... do this until we hit the the left point of beginnig of array: place variable on first right postion of first smaller number (4) [2,4,5,6,9]\n",
    "\n",
    "\n",
    "## Pseudocode:\n",
    "\n",
    "    for j = 2 to A.length\n",
    "        key = A[j]\n",
    "        // Insert A[j] into sorted sequence A[1, ..., j-1]\n",
    "        i = j - 1\n",
    "        while (i > 0 and A[i] > key)\n",
    "            A[i+1] = A[i]\n",
    "            i--\n",
    "        A[i+1] = key\n",
    "\n",
    "## Worst-case running time T(n):\n",
    "$$\n",
    "T(n) = \\theta(n^2)\n",
    "$$"
   ]
  },
  {
   "cell_type": "code",
   "execution_count": 1,
   "metadata": {},
   "outputs": [],
   "source": [
    "def insertionSort(array):\n",
    "    \n",
    "    number_of_elements = len(array)\n",
    "    \n",
    "    for testing_element in range(1, number_of_elements):\n",
    "        \n",
    "        current_value = array[testing_element]\n",
    "        previous_sorted_element = testing_element - 1\n",
    "        \n",
    "        while(previous_sorted_element >= 0 and array[previous_sorted_element] > current_value):\n",
    "            array[previous_sorted_element + 1] = array[previous_sorted_element]\n",
    "            previous_sorted_element -= 1\n",
    "            \n",
    "        array[previous_sorted_element + 1] = current_value"
   ]
  },
  {
   "cell_type": "code",
   "execution_count": 2,
   "metadata": {},
   "outputs": [
    {
     "name": "stdout",
     "output_type": "stream",
     "text": [
      "[4, 6, 2, 7, 9, 1, 5]\n",
      "[1, 2, 4, 5, 6, 7, 9]\n"
     ]
    }
   ],
   "source": [
    "test = [4,6,2,7,9,1,5]\n",
    "\n",
    "print(test)\n",
    "insertionSort(test)\n",
    "print(test)"
   ]
  }
 ],
 "metadata": {
  "kernelspec": {
   "display_name": "Python 3",
   "language": "python",
   "name": "python3"
  },
  "language_info": {
   "codemirror_mode": {
    "name": "ipython",
    "version": 3
   },
   "file_extension": ".py",
   "mimetype": "text/x-python",
   "name": "python",
   "nbconvert_exporter": "python",
   "pygments_lexer": "ipython3",
   "version": "3.6.4"
  }
 },
 "nbformat": 4,
 "nbformat_minor": 2
}
