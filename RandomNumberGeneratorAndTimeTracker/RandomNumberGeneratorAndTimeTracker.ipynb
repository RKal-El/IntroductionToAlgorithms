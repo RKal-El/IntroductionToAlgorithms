{
 "cells": [
  {
   "cell_type": "markdown",
   "metadata": {},
   "source": [
    "# Features for testing algorithms\n",
    "\n",
    "1) Here you can find code to create array (list) with arbitrary number of elements all you need is to enter a number of elements. \n",
    "\n",
    "__Be aware that you need adjust commented part of code and if needed add few more parameters which you are going to pass into function!!!__ \n",
    "\n",
    "2) Instead of printing sorted array I added time needed for sorting array by algorithm in miliseconds."
   ]
  },
  {
   "cell_type": "code",
   "execution_count": 1,
   "metadata": {},
   "outputs": [
    {
     "name": "stdout",
     "output_type": "stream",
     "text": [
      "How many elements do you want the array to have?\n",
      "100\n",
      "0 ms\n"
     ]
    }
   ],
   "source": [
    "import random\n",
    "import time\n",
    "\n",
    "testSampleArray = []\n",
    "\n",
    "numberOfNumbers = int(input('How many elements do you want the array to have?\\n'))\n",
    "\n",
    "for i in range(numberOfNumbers):\n",
    "    testSampleArray.append(random.randint(0, (numberOfNumbers**2)))\n",
    "    \n",
    "\n",
    "startTime = int(round(time.time() * 1000))\n",
    "\n",
    "#sortingAlgorithm(testSampleArray, rest of parameters if exists)\n",
    "\n",
    "endTime = int(round(time.time() * 1000))\n",
    "\n",
    "elapsedTime = endTime - startTime\n",
    "print(str(elapsedTime) + ' ms')"
   ]
  }
 ],
 "metadata": {
  "kernelspec": {
   "display_name": "Python 3",
   "language": "python",
   "name": "python3"
  },
  "language_info": {
   "codemirror_mode": {
    "name": "ipython",
    "version": 3
   },
   "file_extension": ".py",
   "mimetype": "text/x-python",
   "name": "python",
   "nbconvert_exporter": "python",
   "pygments_lexer": "ipython3",
   "version": "3.6.4"
  }
 },
 "nbformat": 4,
 "nbformat_minor": 2
}
