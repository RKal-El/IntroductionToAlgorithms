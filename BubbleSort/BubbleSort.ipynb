{
 "cells": [
  {
   "cell_type": "markdown",
   "metadata": {},
   "source": [
    "# __Bobble Sort__\n",
    "\n",
    "\n",
    "\n",
    "## How it works:\n",
    "\n",
    "Bubble sort algorithm uses two for loops to sort an array of n elements. First for loop will iterate from first element to second-to-last element. For every iterations of first loop second for loop is going to iterate from last element to one element after element which pointing first for loop which mean that with every new ietration of first loop second loop is going to make one less iteration then previous iteration. When second loop is finished that means that algorithm set right element on position on which first loop pointing. \n",
    "\n",
    "\n",
    "### E.g.\n",
    "\n",
    "Ascending series, array = [4, 6, 2, 9, 5]\n",
    "\n",
    "Setting i to the first element in array and j to the last element\n",
    "\n",
    "i = 0  j = 4\n",
    "\n",
    "Steps:\n",
    "\n",
    "1) If(5 < 9) yes: swap 5 and 9 [4, 6, 2, 5, 9]: j = 3\n",
    "\n",
    "2) If(5 < 2) no: continue with next iteration: j = 2\n",
    "\n",
    "3) If(2 < 6) yes: swap 2 and 6 [4, 2, 6, 5, 9]: j = 1\n",
    "\n",
    "4) If(2 < 4) yes: swap 2 and 4 [2, 4, 6, 5, 9]: j = 0\n",
    "\n",
    "i = 1  j = 4\n",
    "\n",
    "Steps:\n",
    "\n",
    "1) If(9 < 5) no: continue with next iteration: j = 3\n",
    "\n",
    "2) If(5 < 6) yes: swap 5 and 6 [2, 4, 5, 6, 9]: j = 2\n",
    "\n",
    "3) If(4 < 5) no: continue with next iteration: j = 1\n",
    "\n",
    "Now even we have \"sorted\" array program does not know and the program must finish with iterations of first loop.\n",
    "\n",
    "i = 2  j = 4\n",
    "\n",
    "Steps:\n",
    "\n",
    "1) If(9 < 6) no: continue with next iteration: j = 3\n",
    "\n",
    "2) If(6 < 5) no: continue with next iteration: j = 2\n",
    "\n",
    "i = 3  j = 4\n",
    "\n",
    "Steps:\n",
    "\n",
    "1) If(9 < 6) no: continue with next iteration: j = 3\n",
    "\n",
    "i = 4\n",
    "\n",
    "Fisrt loop is done which means that the sorting is also successfully done.\n",
    "[2, 4, 5, 6, 9]\n",
    "\n",
    "\n",
    "\n",
    "## Pseudocode:\n",
    "\n",
    "        BOBBLE-SORT(A)\n",
    "            for i = 1 to A.length - 1\n",
    "                for j = A.length down to i + 1\n",
    "                    if(A[j] < A[j - 1])\n",
    "                        exchange A[j] with A[j - 1]\n",
    "\n",
    "\n",
    "## Worst case running time T(n):\n",
    "\n",
    "$$\n",
    "T(n) = \\theta(n^2)\n",
    "$$\n",
    "\n",
    "\n",
    "## Use cases:\n",
    "\n",
    "For very very small number of elements and when we need as much simpler sorting algorithm as possible and easy to implement."
   ]
  },
  {
   "cell_type": "code",
   "execution_count": 1,
   "metadata": {},
   "outputs": [],
   "source": [
    "def bubbleSort(array):\n",
    "    \n",
    "    swap = 0\n",
    "    length = len(array) - 1\n",
    "    \n",
    "    for loopTroughArray in range(0, length):\n",
    "        for subscritp  in range(length, loopTroughArray, -1):\n",
    "            if(array[subscritp] < array[subscritp - 1]):\n",
    "                swap = array[subscritp]\n",
    "                array[subscritp] = array[subscritp - 1]\n",
    "                array[subscritp - 1] = swap"
   ]
  },
  {
   "cell_type": "code",
   "execution_count": 2,
   "metadata": {},
   "outputs": [
    {
     "name": "stdout",
     "output_type": "stream",
     "text": [
      "Unsorted list:\n",
      "[5, 6, 4, 2, 7, 1, 9, 3, 0, 8]\n",
      "\n",
      "Sorting...\n",
      "\n",
      "Sorted list:\n",
      "[0, 1, 2, 3, 4, 5, 6, 7, 8, 9]\n"
     ]
    }
   ],
   "source": [
    "test = [5, 6, 4, 2, 7, 1, 9, 3, 0, 8]\n",
    "\n",
    "print('Unsorted list:' + '\\n' + str(test))\n",
    "print('\\nSorting...\\n')\n",
    "\n",
    "bubbleSort(test)\n",
    "\n",
    "print('Sorted list:' + '\\n' + str(test))"
   ]
  }
 ],
 "metadata": {
  "kernelspec": {
   "display_name": "Python 3",
   "language": "python",
   "name": "python3"
  },
  "language_info": {
   "codemirror_mode": {
    "name": "ipython",
    "version": 3
   },
   "file_extension": ".py",
   "mimetype": "text/x-python",
   "name": "python",
   "nbconvert_exporter": "python",
   "pygments_lexer": "ipython3",
   "version": "3.6.4"
  }
 },
 "nbformat": 4,
 "nbformat_minor": 2
}
