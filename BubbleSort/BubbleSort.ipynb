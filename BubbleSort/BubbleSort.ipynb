{
 "cells": [
  {
   "cell_type": "markdown",
   "metadata": {},
   "source": [
    "# __Bobble Sort__\n",
    "\n",
    "\n",
    "\n",
    "## How it works:\n",
    "\n",
    "Comming soon...\n",
    "\n",
    "\n",
    "### E.g.\n",
    "\n",
    "Comming soon...\n",
    "\n",
    "\n",
    "## Pseudocode:\n",
    "\n",
    "        BOBBLE-SORT(A)\n",
    "            for i = 1 to A.length - 1\n",
    "                for j = A.length down to i + 1\n",
    "                    if A[j] < A[j - 1]\n",
    "                        exchange A[j] with A[j - 1]\n",
    "\n",
    "\n",
    "## Worst case running time T(n):\n",
    "\n",
    "$$\n",
    "T(n) = \\theta(n^2)\n",
    "$$\n",
    "\n",
    "\n",
    "## Use cases:\n",
    "\n",
    "Comming soon..."
   ]
  },
  {
   "cell_type": "code",
   "execution_count": 1,
   "metadata": {},
   "outputs": [],
   "source": [
    "def bubbleSort(array):\n",
    "    \n",
    "    swap = 0\n",
    "    length = len(array) - 1\n",
    "    \n",
    "    for loopTroughArray in range(0, length):\n",
    "        for subscritp  in range(length, loopTroughArray, -1):\n",
    "            if(array[subscritp] < array[subscritp - 1]):\n",
    "                swap = array[subscritp]\n",
    "                array[subscritp] = array[subscritp - 1]\n",
    "                array[subscritp - 1] = swap"
   ]
  },
  {
   "cell_type": "code",
   "execution_count": 2,
   "metadata": {},
   "outputs": [
    {
     "name": "stdout",
     "output_type": "stream",
     "text": [
      "Unsorted list:\n",
      "[5, 6, 4, 2, 7, 1, 9, 3, 0, 8]\n",
      "\n",
      "Sorting...\n",
      "\n",
      "Sorted list:\n",
      "[0, 1, 2, 3, 4, 5, 6, 7, 8, 9]\n"
     ]
    }
   ],
   "source": [
    "test = [5, 6, 4, 2, 7, 1, 9, 3, 0, 8]\n",
    "\n",
    "print('Unsorted list:' + '\\n' + str(test))\n",
    "print('\\nSorting...\\n')\n",
    "\n",
    "bubbleSort(test)\n",
    "\n",
    "print('Sorted list:' + '\\n' + str(test))"
   ]
  }
 ],
 "metadata": {
  "kernelspec": {
   "display_name": "Python 3",
   "language": "python",
   "name": "python3"
  },
  "language_info": {
   "codemirror_mode": {
    "name": "ipython",
    "version": 3
   },
   "file_extension": ".py",
   "mimetype": "text/x-python",
   "name": "python",
   "nbconvert_exporter": "python",
   "pygments_lexer": "ipython3",
   "version": "3.6.4"
  }
 },
 "nbformat": 4,
 "nbformat_minor": 2
}
