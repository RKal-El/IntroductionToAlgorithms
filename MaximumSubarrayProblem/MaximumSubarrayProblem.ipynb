{
 "cells": [
  {
   "cell_type": "markdown",
   "metadata": {},
   "source": [
    "# __The Maximum Subarray Problem__\n",
    "\n",
    "\n",
    "\n",
    "## How it works:\n",
    "\n",
    "Comming soon... \n",
    "\n",
    "\n",
    "### E.g.\n",
    "\n",
    "Comming soon...\n",
    "\n",
    "\n",
    "\n",
    "## Pseudocode:\n",
    "\n",
    "Comming soon...\n",
    "\n",
    "\n",
    "## Worst case running time T(n):\n",
    "\n",
    "$$\n",
    "T(n) = \\theta(n{\\log_2 n})\n",
    "$$\n",
    "\n",
    "\n",
    "## Use cases:\n",
    "\n",
    "Comming soon..."
   ]
  },
  {
   "cell_type": "code",
   "execution_count": 1,
   "metadata": {},
   "outputs": [],
   "source": [
    "import sys"
   ]
  },
  {
   "cell_type": "code",
   "execution_count": 2,
   "metadata": {},
   "outputs": [],
   "source": [
    "def findMaxCrossingSubarray(array, firtElement, middleElement, lastElement):\n",
    "    \n",
    "    leftSum = -sys.maxsize - 1\n",
    "    rightSum = -sys.maxsize - 1\n",
    "    currentSum = 0\n",
    "    maxLeft = -1\n",
    "    maxRight = -1\n",
    "    \n",
    "    for i in range(middleElement, firtElement - 1, -1):\n",
    "        currentSum += array[i]\n",
    "        if(currentSum > leftSum):\n",
    "            leftSum = currentSum\n",
    "            maxLeft = i\n",
    "    \n",
    "    currentSum = 0\n",
    "    \n",
    "    for j in range(middleElement + 1, lastElement + 1, 1):\n",
    "        currentSum += array[j]\n",
    "        if(currentSum > rightSum):\n",
    "            rightSum = currentSum\n",
    "            maxRight = j\n",
    "    \n",
    "    return (maxLeft, maxRight, leftSum + rightSum)"
   ]
  },
  {
   "cell_type": "code",
   "execution_count": 3,
   "metadata": {},
   "outputs": [],
   "source": [
    "def findMaximumSubarray(array, firstElement, lastElement):\n",
    "    \n",
    "    if(firstElement == lastElement):\n",
    "        return (firstElement, lastElement, array[firstElement])\n",
    "    \n",
    "    else:\n",
    "        middleElement = (firstElement + lastElement) // 2\n",
    "        \n",
    "        leftLow, leftHigh, leftSum = findMaximumSubarray(array, firstElement, middleElement)\n",
    "        \n",
    "        rightLow, rightHigh, rightSum = findMaximumSubarray(array, middleElement + 1, lastElement)\n",
    "        \n",
    "        crossLow, crossHigh, crossSum = findMaxCrossingSubarray(array, firstElement, middleElement, lastElement)\n",
    "        \n",
    "    if(leftSum >= rightSum and leftSum >= crossSum):\n",
    "        return(leftLow, leftHigh, leftSum)\n",
    "    elif(rightSum >= leftSum and rightSum >= crossSum):\n",
    "        return(rightLow, rightHigh, rightSum)\n",
    "    else:\n",
    "        return(crossLow, crossHigh, crossSum)"
   ]
  },
  {
   "cell_type": "code",
   "execution_count": 4,
   "metadata": {},
   "outputs": [
    {
     "name": "stdout",
     "output_type": "stream",
     "text": [
      "Start position: 7\n",
      "Final position: 11\n",
      "Maximum sum is: 43\n"
     ]
    }
   ],
   "source": [
    "test = [13, -3, -25, 20, -3, -16, -23, 18, 20, -7, 12, -5, -22, 15, -4, 7]\n",
    "\n",
    "firstElem = 0\n",
    "lastElem = len(test) - 1\n",
    "\n",
    "firstIndex, lastIndex, summ = findMaximumSubarray(test, firstElem, lastElem)\n",
    "\n",
    "print('Start position: ' + str(firstIndex))\n",
    "print('Final position: ' + str(lastIndex + 1))\n",
    "print('Maximum sum is: ' + str(summ))"
   ]
  }
 ],
 "metadata": {
  "kernelspec": {
   "display_name": "Python 3",
   "language": "python",
   "name": "python3"
  },
  "language_info": {
   "codemirror_mode": {
    "name": "ipython",
    "version": 3
   },
   "file_extension": ".py",
   "mimetype": "text/x-python",
   "name": "python",
   "nbconvert_exporter": "python",
   "pygments_lexer": "ipython3",
   "version": "3.6.4"
  }
 },
 "nbformat": 4,
 "nbformat_minor": 2
}
